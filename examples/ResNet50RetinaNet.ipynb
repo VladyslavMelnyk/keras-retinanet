{
 "cells": [
  {
   "cell_type": "markdown",
   "metadata": {},
   "source": [
    "## Load necessary modules"
   ]
  },
  {
   "cell_type": "code",
   "execution_count": 2,
   "metadata": {},
   "outputs": [
    {
     "name": "stderr",
     "output_type": "stream",
     "text": [
      "/home/ubuntu/anaconda3/envs/tensorflow_p27/lib/python2.7/site-packages/matplotlib/__init__.py:1067: UserWarning: Duplicate key in file \"/home/ubuntu/.config/matplotlib/matplotlibrc\", line #2\n",
      "  (fname, cnt))\n",
      "/home/ubuntu/anaconda3/envs/tensorflow_p27/lib/python2.7/site-packages/matplotlib/__init__.py:1067: UserWarning: Duplicate key in file \"/home/ubuntu/.config/matplotlib/matplotlibrc\", line #3\n",
      "  (fname, cnt))\n",
      "/home/ubuntu/anaconda3/envs/tensorflow_p27/lib/python2.7/site-packages/h5py/__init__.py:36: FutureWarning: Conversion of the second argument of issubdtype from `float` to `np.floating` is deprecated. In future, it will be treated as `np.float64 == np.dtype(float).type`.\n",
      "  from ._conv import register_converters as _register_converters\n",
      "Using TensorFlow backend.\n"
     ]
    }
   ],
   "source": [
    "# show images inline\n",
    "%matplotlib inline\n",
    "\n",
    "# automatically reload modules when they have changed\n",
    "%load_ext autoreload\n",
    "%autoreload 2\n",
    "\n",
    "# import keras\n",
    "import keras\n",
    "\n",
    "# import keras_retinanet\n",
    "from keras_retinanet import models\n",
    "from keras_retinanet.utils.image import read_image_bgr, preprocess_image, resize_image\n",
    "from keras_retinanet.utils.visualization import draw_box, draw_caption\n",
    "from keras_retinanet.utils.colors import label_color\n",
    "\n",
    "# import miscellaneous modules\n",
    "import matplotlib.pyplot as plt\n",
    "import cv2\n",
    "import os\n",
    "import numpy as np\n",
    "import time\n",
    "import glob\n",
    "\n",
    "# set tf backend to allow memory to grow, instead of claiming everything\n",
    "import tensorflow as tf\n",
    "\n",
    "def get_session():\n",
    "    config = tf.ConfigProto()\n",
    "    config.gpu_options.allow_growth = True\n",
    "    return tf.Session(config=config)\n",
    "\n",
    "# use this environment flag to change which GPU to use\n",
    "#os.environ[\"CUDA_VISIBLE_DEVICES\"] = \"1\"\n",
    "\n",
    "# set the modified tf session as backend in keras\n",
    "keras.backend.tensorflow_backend.set_session(get_session())"
   ]
  },
  {
   "cell_type": "markdown",
   "metadata": {},
   "source": [
    "## Load RetinaNet model"
   ]
  },
  {
   "cell_type": "code",
   "execution_count": 12,
   "metadata": {
    "scrolled": false
   },
   "outputs": [],
   "source": [
    "# adjust this to point to your downloaded/trained model\n",
    "# models can be downloaded here: https://github.com/fizyr/keras-retinanet/releases\n",
    "model_path = os.path.join('..', 'snapshots', 'sku_model_csv.h5')\n",
    "\n",
    "# load retinanet model\n",
    "model = models.load_model(model_path, backbone_name='resnet50')\n",
    "\n",
    "# if the model is not converted to an inference model, use the line below\n",
    "# see: https://github.com/fizyr/keras-retinanet#converting-a-training-model-to-inference-model\n",
    "#model = models.load_model(model_path, backbone_name='resnet50', convert_model=True)\n",
    "\n",
    "#print(model.summary())\n",
    "\n",
    "# load label to names mapping for visualization purposes\n",
    "labels_to_names = {0: 'sku'}"
   ]
  },
  {
   "cell_type": "markdown",
   "metadata": {},
   "source": [
    "## Define Non-Maximum Suppression(NMS)"
   ]
  },
  {
   "cell_type": "code",
   "execution_count": 4,
   "metadata": {},
   "outputs": [],
   "source": [
    "from numpy import *\n",
    "\n",
    "def nms (boxes, score, overlap):\n",
    "  if not len(boxes):\n",
    "        pick = []\n",
    "  else:\n",
    "        trial = zeros((len(boxes),4),dtype=float64)\n",
    "        trial[:] = boxes[:]\n",
    "        x1 = trial[:,0]\n",
    "        y1 = trial[:,1]\n",
    "        x2 = trial[:,2]\n",
    "        y2 = trial[:,3]\n",
    "        area = (x2-x1+1)*(y2-y1+1)\n",
    "        I = argsort(score)\n",
    "        pick = []\n",
    "        count = 1\n",
    "        while (I.size!=0):\n",
    "            last = I.size\n",
    "            i = I[last-1]\n",
    "            pick.append(i)\n",
    "            suppress = [last-1]\n",
    "            for pos in range(last-1):\n",
    "                j = I[pos]\n",
    "                xx1 = max(x1[i],x1[j])\n",
    "                yy1 = max(y1[i],y1[j])\n",
    "                xx2 = min(x2[i],x2[j])\n",
    "                yy2 = min(y2[i],y2[j])\n",
    "                w = xx2-xx1+1\n",
    "                h = yy2-yy1+1\n",
    "                if (w>0 and h>0):\n",
    "                    o = w*h/area[j]\n",
    "                    if (o >overlap):\n",
    "                        suppress.append(pos)\n",
    "            I = delete(I,suppress)\n",
    "            count = count + 1\n",
    "  return pick"
   ]
  },
  {
   "cell_type": "markdown",
   "metadata": {},
   "source": [
    "## Run detection on example"
   ]
  },
  {
   "cell_type": "code",
   "execution_count": 13,
   "metadata": {
    "scrolled": false
   },
   "outputs": [
    {
     "name": "stdout",
     "output_type": "stream",
     "text": [
      "../data/test/20289972_Photo 0.jpeg\n",
      "('processing time: ', 1.489799976348877)\n",
      "../data/test/20296323_Photo 1.jpeg\n",
      "('processing time: ', 0.3635859489440918)\n",
      "../data/test/20290055_Photo 0.jpeg\n",
      "('processing time: ', 0.37131214141845703)\n",
      "../data/test/20289928_Photo 0.jpeg\n",
      "('processing time: ', 0.368757963180542)\n",
      "../data/test/20290062_Photo 0.jpeg\n",
      "('processing time: ', 0.36928606033325195)\n",
      "../data/test/20290260_Photo 0.jpeg\n",
      "('processing time: ', 0.3548460006713867)\n",
      "../data/test/20289929_Photo 0.jpeg\n",
      "('processing time: ', 0.33522701263427734)\n"
     ]
    }
   ],
   "source": [
    "# load images\n",
    "dir = '../data/test'\n",
    "images = glob.glob(os.path.join(dir,'*.jpeg'))\n",
    "#image = read_image_bgr('../data/test/20290260_Photo 0.jpeg')\n",
    "\n",
    "for img in images:\n",
    "    image = read_image_bgr(img)\n",
    "\n",
    "    # copy to draw on\n",
    "    draw = image.copy()\n",
    "    draw = cv2.cvtColor(draw, cv2.COLOR_BGR2RGB)\n",
    "\n",
    "    # preprocess image for network\n",
    "    image = preprocess_image(image)\n",
    "    image, scale = resize_image(image)\n",
    "\n",
    "    # process image\n",
    "    start = time.time()\n",
    "    boxes, scores, labels = model.predict_on_batch(np.expand_dims(image, axis=0))\n",
    "    boxes /= scale\n",
    "    boxes=boxes[0]\n",
    "    scores = scores[0]\n",
    "    labels = labels[0]\n",
    "    keep = nms(boxes,scores, 0.3)\n",
    "    final_boxes = [boxes[idx] for idx in keep]\n",
    "    final_scores = [scores[idx] for idx in keep]\n",
    "    final_labels = [labels[idx] for idx in keep]\n",
    "    print img\n",
    "    print(\"processing time: \", time.time() - start)\n",
    "\n",
    "    # visualize detections\n",
    "    for box, score, label in zip(final_boxes, final_scores, final_labels):\n",
    "        # scores are sorted so we can break\n",
    "        if score < 0.65:\n",
    "            break\n",
    "        #color = label_color(label)\n",
    "        color = (0,0,255)\n",
    "\n",
    "        b = box.astype(int)\n",
    "        draw_box(draw, b, color=color)\n",
    "\n",
    "        caption = \"{} {:.3f}\".format(labels_to_names[label], score)\n",
    "        draw_caption(draw, b, caption)\n",
    "    \n",
    "    #plt.figure(figsize=(15, 15))\n",
    "    #plt.axis('off')\n",
    "    #plt.imshow(draw)\n",
    "    #plt.show()\n",
    "    cv2.imwrite(os.path.join(dir, '../test_old',os.path.basename(img)), draw)\n"
   ]
  },
  {
   "cell_type": "code",
   "execution_count": null,
   "metadata": {},
   "outputs": [],
   "source": []
  }
 ],
 "metadata": {
  "kernelspec": {
   "display_name": "Python 3",
   "language": "python",
   "name": "python3"
  },
  "language_info": {
   "codemirror_mode": {
    "name": "ipython",
    "version": 2
   },
   "file_extension": ".py",
   "mimetype": "text/x-python",
   "name": "python",
   "nbconvert_exporter": "python",
   "pygments_lexer": "ipython2",
   "version": "2.7.14"
  }
 },
 "nbformat": 4,
 "nbformat_minor": 2
}
